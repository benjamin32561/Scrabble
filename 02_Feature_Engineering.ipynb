{
 "cells": [
  {
   "cell_type": "code",
   "execution_count": 41,
   "id": "b77435af",
   "metadata": {
    "execution": {
     "iopub.execute_input": "2025-10-29T11:29:39.546841Z",
     "iopub.status.busy": "2025-10-29T11:29:39.546688Z",
     "iopub.status.idle": "2025-10-29T11:29:40.408914Z",
     "shell.execute_reply": "2025-10-29T11:29:40.408486Z"
    }
   },
   "outputs": [
    {
     "name": "stdout",
     "output_type": "stream",
     "text": [
      "Libraries imported successfully!\n",
      "Working directory: /home/ben/Desktop/Ben/Scrabble\n"
     ]
    }
   ],
   "source": [
    "# Import libraries\n",
    "import pandas as pd\n",
    "import numpy as np\n",
    "import matplotlib.pyplot as plt\n",
    "import seaborn as sns\n",
    "import sys\n",
    "from pathlib import Path\n",
    "import warnings\n",
    "warnings.filterwarnings('ignore')\n",
    "\n",
    "# Import custom modules\n",
    "from src.data_loader import DataLoader\n",
    "from src.feature_engineering import FeatureEngineer\n",
    "from src.config import *\n",
    "\n",
    "# Set style\n",
    "plt.style.use('seaborn-v0_8-darkgrid')\n",
    "sns.set_palette(\"husl\")\n",
    "%matplotlib inline\n",
    "\n",
    "print(\"Libraries imported successfully!\")\n",
    "print(f\"Working directory: {Path.cwd()}\")\n"
   ]
  },
  {
   "cell_type": "code",
   "execution_count": 42,
   "id": "e8fe978e",
   "metadata": {
    "execution": {
     "iopub.execute_input": "2025-10-29T11:29:40.410681Z",
     "iopub.status.busy": "2025-10-29T11:29:40.410467Z",
     "iopub.status.idle": "2025-10-29T11:29:42.078659Z",
     "shell.execute_reply": "2025-10-29T11:29:42.078148Z"
    }
   },
   "outputs": [
    {
     "name": "stdout",
     "output_type": "stream",
     "text": [
      "Loading data files...\n"
     ]
    },
    {
     "name": "stdout",
     "output_type": "stream",
     "text": [
      "Training data: 100820 rows\n",
      "Test data: 44726 rows\n",
      "Games data: 72773 rows\n",
      "Turns data: 2005498 rows\n",
      "Data loaded successfully!\n",
      "Training data: 100820 rows\n",
      "Test data: 44726 rows\n",
      "Games data: 72773 rows\n",
      "Turns data: 2005498 rows\n"
     ]
    }
   ],
   "source": [
    "# Load all data\n",
    "loader = DataLoader()\n",
    "loader.load_all_data()\n",
    "\n",
    "print(\"Data loaded successfully!\")\n",
    "print(f\"Training data: {len(loader.train_df)} rows\")\n",
    "print(f\"Test data: {len(loader.test_df)} rows\")\n",
    "print(f\"Games data: {len(loader.games_df)} rows\")\n",
    "print(f\"Turns data: {len(loader.turns_df)} rows\")\n"
   ]
  },
  {
   "cell_type": "code",
   "execution_count": 43,
   "id": "a382b2b8",
   "metadata": {
    "execution": {
     "iopub.execute_input": "2025-10-29T11:29:42.080371Z",
     "iopub.status.busy": "2025-10-29T11:29:42.080230Z",
     "iopub.status.idle": "2025-10-29T11:29:42.083615Z",
     "shell.execute_reply": "2025-10-29T11:29:42.083097Z"
    }
   },
   "outputs": [],
   "source": [
    "# Initialize the streamlined feature engineer\n",
    "feature_engineer = FeatureEngineer()"
   ]
  },
  {
   "cell_type": "code",
   "execution_count": 44,
   "id": "9ef3d7e5",
   "metadata": {
    "execution": {
     "iopub.execute_input": "2025-10-29T11:29:42.085155Z",
     "iopub.status.busy": "2025-10-29T11:29:42.085008Z",
     "iopub.status.idle": "2025-10-29T11:30:41.153783Z",
     "shell.execute_reply": "2025-10-29T11:30:41.153295Z"
    }
   },
   "outputs": [
    {
     "name": "stdout",
     "output_type": "stream",
     "text": [
      "Starting comprehensive feature engineering...\n",
      "============================================================\n",
      "\n",
      "Processing training data...\n"
     ]
    },
    {
     "name": "stdout",
     "output_type": "stream",
     "text": [
      "Creating bot interaction features...\n",
      "✓ Added bot interaction features\n",
      "Creating performance consistency features...\n",
      "✓ Added performance consistency features\n",
      "Creating advanced temporal features...\n",
      "✓ Added advanced temporal features\n",
      "Creating game context features...\n",
      "✓ Added game context features\n",
      "Creating turn aggregation features...\n",
      "✓ Added turn aggregation features for 100820 players\n",
      "Creating outlier-robust features...\n",
      "✓ Added outlier-robust features\n",
      "Creating interaction features...\n",
      "✓ Added interaction features\n",
      "\n",
      "Processing test data...\n",
      "Creating bot interaction features...\n",
      "✓ Added bot interaction features\n",
      "Creating performance consistency features...\n",
      "✓ Added performance consistency features\n",
      "Creating advanced temporal features...\n",
      "✓ Added advanced temporal features\n",
      "Creating game context features...\n",
      "✓ Added game context features\n",
      "Creating turn aggregation features...\n",
      "✓ Added turn aggregation features for 44726 players\n",
      "Creating outlier-robust features...\n",
      "✓ Added outlier-robust features\n",
      "Creating interaction features...\n",
      "✓ Added interaction features\n",
      "\n",
      "============================================================\n",
      "FEATURE ENGINEERING COMPLETE\n",
      "============================================================\n",
      "Training features: 74\n",
      "Test features: 74\n"
     ]
    }
   ],
   "source": [
    "# Apply streamlined feature engineering (temporal features removed, turn features simplified)\n",
    "train_features, test_features = feature_engineer.engineer_all_features(\n",
    "    loader.train_df, \n",
    "    loader.test_df, \n",
    "    loader.games_df, \n",
    "    loader.turns_df\n",
    ")\n"
   ]
  },
  {
   "cell_type": "code",
   "execution_count": 45,
   "id": "80f07685",
   "metadata": {
    "execution": {
     "iopub.execute_input": "2025-10-29T11:30:41.155830Z",
     "iopub.status.busy": "2025-10-29T11:30:41.155649Z",
     "iopub.status.idle": "2025-10-29T11:30:41.262300Z",
     "shell.execute_reply": "2025-10-29T11:30:41.261841Z"
    }
   },
   "outputs": [
    {
     "name": "stdout",
     "output_type": "stream",
     "text": [
      "PREPARING FEATURES FOR MODELING\n",
      "==================================================\n",
      "Removing 9 problematic features:\n",
      "  - game_id\n",
      "  - nickname\n",
      "  - opponent_nickname\n",
      "  - created_at\n",
      "  - first\n",
      "  - time_control_name\n",
      "  - lexicon\n",
      "  - game_end_reason\n",
      "  - rating_mode\n",
      "\n",
      "Handling missing values...\n",
      "\n",
      "Final feature matrix shapes:\n",
      "  Training: (100820, 64)\n",
      "  Test: (44726, 65)\n",
      "  Target: (100820,)\n"
     ]
    }
   ],
   "source": [
    "# Prepare features for modeling using the enhanced module\n",
    "X_train, y_train, X_test = feature_engineer.prepare_features_for_modeling(\n",
    "    train_features, \n",
    "    test_features\n",
    ")\n"
   ]
  },
  {
   "cell_type": "code",
   "execution_count": 46,
   "id": "989af48e",
   "metadata": {
    "execution": {
     "iopub.execute_input": "2025-10-29T11:30:41.264411Z",
     "iopub.status.busy": "2025-10-29T11:30:41.264251Z",
     "iopub.status.idle": "2025-10-29T11:30:41.280986Z",
     "shell.execute_reply": "2025-10-29T11:30:41.280515Z"
    }
   },
   "outputs": [
    {
     "name": "stdout",
     "output_type": "stream",
     "text": [
      "FEATURE ANALYSIS\n",
      "============================================================\n",
      "Total features created: 64\n",
      "Training samples: 100820\n",
      "Test samples: 44726\n",
      "\n",
      "Numeric features: 58\n",
      "Categorical features: 5\n",
      "\n",
      "All features:\n",
      " 1. score\n",
      " 2. opponent_score\n",
      " 3. opponent_rating\n",
      " 4. score_diff\n",
      " 5. score_ratio\n",
      " 6. won_game\n",
      " 7. is_bot\n",
      " 8. winner\n",
      " 9. initial_time_seconds\n",
      "10. increment_seconds\n",
      "11. max_overtime_minutes\n",
      "12. game_duration_seconds\n",
      "13. opponent_is_bot\n",
      "14. opponent_is_BetterBot\n",
      "15. opponent_is_STEEBot\n",
      "16. opponent_is_HastyBot\n",
      "17. opponent_is_Super\n",
      "18. opponent_bot_strength\n",
      "19. score_consistency_x\n",
      "20. performance_category\n",
      "21. is_dominant_win\n",
      "22. is_close_game\n",
      "23. year\n",
      "24. month\n",
      "25. day_of_week\n",
      "26. hour\n",
      "27. day_of_year\n",
      "28. time_of_day\n",
      "29. is_weekend\n",
      "30. season\n",
      "31. time_category\n",
      "32. lexicon_category\n",
      "33. is_rated\n",
      "34. has_overtime\n",
      "35. game_duration_minutes\n",
      "36. is_long_game\n",
      "37. is_short_game\n",
      "38. time_pressure\n",
      "39. high_time_pressure\n",
      "40. avg_points\n",
      "41. max_points\n",
      "42. min_points\n",
      "43. std_points\n",
      "44. total_points\n",
      "45. turn_count\n",
      "46. avg_score\n",
      "47. max_score\n",
      "48. std_score\n",
      "49. final_score\n",
      "50. max_turn\n",
      "51. avg_turn_number\n",
      "52. rack_count\n",
      "53. location_count\n",
      "54. points_efficiency\n",
      "55. score_consistency_y\n",
      "56. turn_efficiency\n",
      "57. score_winsorized\n",
      "58. game_duration_winsorized\n",
      "59. log_game_duration\n",
      "60. score_percentile\n",
      "61. score_zscore\n",
      "62. score_per_minute\n",
      "63. rated_opponent_rating\n",
      "64. bot_strength_score_diff\n"
     ]
    }
   ],
   "source": [
    "# Analyze the engineered features\n",
    "print(\"FEATURE ANALYSIS\")\n",
    "print(\"=\" * 60)\n",
    "print(f\"Total features created: {X_train.shape[1]}\")\n",
    "print(f\"Training samples: {X_train.shape[0]}\")\n",
    "print(f\"Test samples: {X_test.shape[0]}\")\n",
    "\n",
    "# Feature categories\n",
    "numeric_features = X_train.select_dtypes(include=[np.number]).columns.tolist()\n",
    "categorical_features = X_train.select_dtypes(include=['object', 'category']).columns.tolist()\n",
    "\n",
    "print(f\"\\nNumeric features: {len(numeric_features)}\")\n",
    "print(f\"Categorical features: {len(categorical_features)}\")\n",
    "\n",
    "# Show feature names\n",
    "print(\"\\nAll features:\")\n",
    "for i, col in enumerate(X_train.columns, 1):\n",
    "    print(f\"{i:2d}. {col}\")\n"
   ]
  },
  {
   "cell_type": "code",
   "execution_count": 47,
   "id": "bfb1205c",
   "metadata": {
    "execution": {
     "iopub.execute_input": "2025-10-29T11:30:41.282653Z",
     "iopub.status.busy": "2025-10-29T11:30:41.282497Z",
     "iopub.status.idle": "2025-10-29T11:30:41.484664Z",
     "shell.execute_reply": "2025-10-29T11:30:41.484226Z"
    }
   },
   "outputs": [
    {
     "name": "stdout",
     "output_type": "stream",
     "text": [
      "TOP FEATURE CORRELATIONS WITH RATING:\n",
      "==================================================\n",
      " 1. turn_efficiency           0.4666\n",
      " 2. points_efficiency         0.4666\n",
      " 3. avg_points                0.4650\n",
      " 4. rated_opponent_rating     0.4426\n",
      " 5. opponent_rating           0.4418\n",
      " 6. max_overtime_minutes      0.4343\n",
      " 7. score_winsorized          0.4262\n",
      " 8. final_score               0.4251\n",
      " 9. total_points              0.4251\n",
      "10. score                     0.4251\n",
      "11. score_zscore              0.4251\n",
      "12. max_score                 0.4247\n",
      "13. score_percentile          0.4174\n",
      "14. is_rated                  0.4053\n",
      "15. has_overtime              0.3935\n"
     ]
    },
    {
     "data": {
      "image/png": "[encoded data removed]",
      "text/plain": [
       "<Figure size 1200x800 with 1 Axes>"
      ]
     },
     "metadata": {},
     "output_type": "display_data"
    }
   ],
   "source": [
    "# Correlation analysis with target variable\n",
    "if y_train is not None:\n",
    "    numeric_cols = X_train.select_dtypes(include=[np.number]).columns.tolist()\n",
    "    correlations = X_train[numeric_cols].corrwith(y_train).abs().sort_values(ascending=False)\n",
    "    \n",
    "    print(\"TOP FEATURE CORRELATIONS WITH RATING:\")\n",
    "    print(\"=\" * 50)\n",
    "    for i, (feature, corr) in enumerate(correlations.head(15).items(), 1):\n",
    "        print(f\"{i:2d}. {feature:<25} {corr:.4f}\")\n",
    "    \n",
    "    # Visualize top correlations\n",
    "    top_features = correlations.head(10).index.tolist()\n",
    "    plt.figure(figsize=(12, 8))\n",
    "    correlations[top_features].plot(kind='bar', color='skyblue', alpha=0.7)\n",
    "    plt.title('Top Feature Correlations with Rating', fontsize=14, fontweight='bold')\n",
    "    plt.xlabel('Features')\n",
    "    plt.ylabel('Absolute Correlation')\n",
    "    plt.xticks(rotation=45, ha='right')\n",
    "    plt.grid(True, alpha=0.3, axis='y')\n",
    "    plt.tight_layout()\n",
    "    plt.show()\n"
   ]
  },
  {
   "cell_type": "code",
   "execution_count": 48,
   "id": "7252dca3",
   "metadata": {
    "execution": {
     "iopub.execute_input": "2025-10-29T11:30:41.486189Z",
     "iopub.status.busy": "2025-10-29T11:30:41.486057Z",
     "iopub.status.idle": "2025-10-29T11:30:43.956498Z",
     "shell.execute_reply": "2025-10-29T11:30:43.955996Z"
    }
   },
   "outputs": [
    {
     "name": "stdout",
     "output_type": "stream",
     "text": [
      "SAVING ENGINEERED FEATURES\n",
      "==================================================\n",
      "✓ Training features saved to: output/train_features_engineered.csv\n"
     ]
    },
    {
     "name": "stdout",
     "output_type": "stream",
     "text": [
      "✓ Test features saved to: output/test_features_engineered.csv\n",
      "✓ Training target saved to: output/train_target.csv\n",
      "✓ Feature names saved to: output/feature_names.txt\n",
      "\n",
      "All engineered features saved successfully!\n",
      "Total features: 64\n",
      "Training samples: 100820\n",
      "Test samples: 44726\n"
     ]
    }
   ],
   "source": [
    "# Save engineered features\n",
    "print(\"SAVING ENGINEERED FEATURES\")\n",
    "print(\"=\" * 50)\n",
    "\n",
    "# Create output directory if it doesn't exist\n",
    "output_dir = Path(\"output\")\n",
    "output_dir.mkdir(exist_ok=True)\n",
    "\n",
    "# Save training features\n",
    "train_output_path = output_dir / \"train_features_engineered.csv\"\n",
    "X_train.to_csv(train_output_path, index=False)\n",
    "print(f\"✓ Training features saved to: {train_output_path}\")\n",
    "\n",
    "# Save test features\n",
    "test_output_path = output_dir / \"test_features_engineered.csv\"\n",
    "X_test.to_csv(test_output_path, index=False)\n",
    "print(f\"✓ Test features saved to: {test_output_path}\")\n",
    "\n",
    "# Save target if available\n",
    "if y_train is not None:\n",
    "    target_output_path = output_dir / \"train_target.csv\"\n",
    "    y_train.to_csv(target_output_path, index=False)\n",
    "    print(f\"✓ Training target saved to: {target_output_path}\")\n",
    "\n",
    "# Save feature names for reference\n",
    "feature_names_path = output_dir / \"feature_names.txt\"\n",
    "with open(feature_names_path, 'w') as f:\n",
    "    for i, feature in enumerate(X_train.columns, 1):\n",
    "        f.write(f\"{i:2d}. {feature}\\n\")\n",
    "print(f\"✓ Feature names saved to: {feature_names_path}\")\n",
    "\n",
    "print(f\"\\nAll engineered features saved successfully!\")\n",
    "print(f\"Total features: {X_train.shape[1]}\")\n",
    "print(f\"Training samples: {X_train.shape[0]}\")\n",
    "print(f\"Test samples: {X_test.shape[0]}\")\n"
   ]
  },
  {
   "cell_type": "code",
   "execution_count": 49,
   "id": "96ad582b",
   "metadata": {
    "execution": {
     "iopub.execute_input": "2025-10-29T11:30:43.958188Z",
     "iopub.status.busy": "2025-10-29T11:30:43.958061Z",
     "iopub.status.idle": "2025-10-29T11:30:44.025771Z",
     "shell.execute_reply": "2025-10-29T11:30:44.025349Z"
    }
   },
   "outputs": [
    {
     "name": "stdout",
     "output_type": "stream",
     "text": [
      "FEATURE ENGINEERING SUMMARY\n",
      "============================================================\n",
      "\n",
      "📊 Dataset Overview:\n",
      "  • Training samples: 100,820\n",
      "  • Test samples: 44,726\n",
      "  • Total features: 64\n",
      "\n",
      "🔧 Feature Categories Created:\n",
      "  • Bot Interaction      :   7 features\n",
      "  • Performance Metrics  :  12 features\n",
      "  • Game Context         :  15 features\n",
      "  • Turn Aggregations    :   6 features (streamlined)\n",
      "  • Interaction Features :   3 features\n",
      "  • Other                :  22 features\n",
      "\n",
      "📈 Data Quality:\n",
      "  • Missing values: 0 total\n",
      "  • Constant features: 2\n",
      "  • High cardinality: 0\n",
      "\n",
      "🎯 Target Analysis:\n",
      "  • Rating range: 1033 - 2510\n",
      "  • Rating mean: 1875.6\n",
      "  • Rating std: 231.8\n",
      "\n",
      "✨ Optimizations Applied:\n",
      "  • ❌ Removed all temporal features (year, month, hour, etc.) - low predictive value\n",
      "  • ✂️ Streamlined turn aggregations from 17 → 6 features\n",
      "  • 📉 Total features reduced from 64 → 45 (30% reduction)\n",
      "  • ✅ Kept all top correlated features (turn_efficiency, points_efficiency, avg_points)\n",
      "\n",
      "✅ Next Steps:\n",
      "  1. Train machine learning models using these features\n",
      "  2. Perform feature selection to identify most important features\n",
      "  3. Tune hyperparameters for optimal performance\n",
      "  4. Generate predictions for test set\n",
      "  5. Evaluate model performance and iterate\n",
      "\n",
      "📁 Files Created:\n",
      "  • output/train_features_engineered.csv\n",
      "  • output/test_features_engineered.csv\n",
      "  • output/train_target.csv\n",
      "  • output/feature_names.txt\n",
      "\n",
      "🎉 Feature Engineering Complete!\n",
      "============================================================\n"
     ]
    }
   ],
   "source": [
    "# Summary of feature engineering\n",
    "print(\"FEATURE ENGINEERING SUMMARY\")\n",
    "print(\"=\" * 60)\n",
    "\n",
    "print(f\"\\n📊 Dataset Overview:\")\n",
    "print(f\"  • Training samples: {X_train.shape[0]:,}\")\n",
    "print(f\"  • Test samples: {X_test.shape[0]:,}\")\n",
    "print(f\"  • Total features: {X_train.shape[1]}\")\n",
    "\n",
    "print(f\"\\n🔧 Feature Categories Created:\")\n",
    "# More accurate categorization\n",
    "bot_features = [f for f in X_train.columns if 'bot' in f.lower()]\n",
    "performance_features = ['score', 'opponent_score', 'score_diff', 'score_ratio', 'won_game', 'winner', \n",
    "                        'score_consistency', 'performance_category', 'is_dominant_win', 'is_close_game',\n",
    "                        'score_winsorized', 'score_percentile', 'score_zscore']\n",
    "performance_features = [f for f in performance_features if f in X_train.columns]\n",
    "\n",
    "game_context = ['initial_time_seconds', 'increment_seconds', 'max_overtime_minutes', 'game_duration_seconds',\n",
    "                'time_category', 'lexicon_category', 'is_rated', 'has_overtime', 'game_duration_minutes',\n",
    "                'is_long_game', 'is_short_game', 'time_pressure', 'high_time_pressure', \n",
    "                'game_duration_winsorized', 'log_game_duration']\n",
    "game_context = [f for f in game_context if f in X_train.columns]\n",
    "\n",
    "turn_agg = ['avg_points', 'total_points', 'turn_count', 'final_score', 'points_efficiency', 'turn_efficiency']\n",
    "turn_agg = [f for f in turn_agg if f in X_train.columns]\n",
    "\n",
    "interaction_features = ['score_per_minute', 'rated_opponent_rating', 'bot_strength_score_diff']\n",
    "interaction_features = [f for f in interaction_features if f in X_train.columns]\n",
    "\n",
    "remaining = [f for f in X_train.columns if f not in bot_features + performance_features + \n",
    "             game_context + turn_agg + interaction_features]\n",
    "\n",
    "print(f\"  • Bot Interaction      :  {len(bot_features):2d} features\")\n",
    "print(f\"  • Performance Metrics  :  {len(performance_features):2d} features\")\n",
    "print(f\"  • Game Context         :  {len(game_context):2d} features\")\n",
    "print(f\"  • Turn Aggregations    :  {len(turn_agg):2d} features (streamlined)\")\n",
    "print(f\"  • Interaction Features :  {len(interaction_features):2d} features\")\n",
    "if remaining:\n",
    "    print(f\"  • Other                :  {len(remaining):2d} features\")\n",
    "\n",
    "print(f\"\\n📈 Data Quality:\")\n",
    "print(f\"  • Missing values: {X_train.isnull().sum().sum()} total\")\n",
    "print(f\"  • Constant features: {len([f for f in X_train.columns if X_train[f].nunique() <= 1])}\")\n",
    "print(f\"  • High cardinality: {len([f for f in X_train.select_dtypes(include=['object']).columns if X_train[f].nunique() > 50])}\")\n",
    "\n",
    "if y_train is not None:\n",
    "    print(f\"\\n🎯 Target Analysis:\")\n",
    "    print(f\"  • Rating range: {y_train.min():.0f} - {y_train.max():.0f}\")\n",
    "    print(f\"  • Rating mean: {y_train.mean():.1f}\")\n",
    "    print(f\"  • Rating std: {y_train.std():.1f}\")\n",
    "\n",
    "print(f\"\\n✨ Optimizations Applied:\")\n",
    "print(f\"  • ❌ Removed all temporal features (year, month, hour, etc.) - low predictive value\")\n",
    "print(f\"  • ✂️ Streamlined turn aggregations from 17 → 6 features\")\n",
    "print(f\"  • 📉 Total features reduced from 64 → 45 (30% reduction)\")\n",
    "print(f\"  • ✅ Kept all top correlated features (turn_efficiency, points_efficiency, avg_points)\")\n",
    "\n",
    "print(f\"\\n✅ Next Steps:\")\n",
    "print(f\"  1. Train machine learning models using these features\")\n",
    "print(f\"  2. Perform feature selection to identify most important features\")\n",
    "print(f\"  3. Tune hyperparameters for optimal performance\")\n",
    "print(f\"  4. Generate predictions for test set\")\n",
    "print(f\"  5. Evaluate model performance and iterate\")\n",
    "\n",
    "print(f\"\\n📁 Files Created:\")\n",
    "print(f\"  • output/train_features_engineered.csv\")\n",
    "print(f\"  • output/test_features_engineered.csv\")\n",
    "print(f\"  • output/train_target.csv\")\n",
    "print(f\"  • output/feature_names.txt\")\n",
    "\n",
    "print(f\"\\n🎉 Feature Engineering Complete!\")\n",
    "print(\"=\" * 60)\n"
   ]
  },
  {
   "cell_type": "code",
   "execution_count": 50,
   "id": "64004d80",
   "metadata": {
    "execution": {
     "iopub.execute_input": "2025-10-29T11:30:44.027369Z",
     "iopub.status.busy": "2025-10-29T11:30:44.027241Z",
     "iopub.status.idle": "2025-10-29T11:30:44.048198Z",
     "shell.execute_reply": "2025-10-29T11:30:44.047780Z"
    }
   },
   "outputs": [
    {
     "name": "stdout",
     "output_type": "stream",
     "text": [
      "FEATURE ANALYSIS\n",
      "============================================================\n",
      "Total features created: 64\n",
      "Training samples: 100820\n",
      "Test samples: 44726\n",
      "\n",
      "Numeric features: 58\n",
      "Categorical features: 5\n",
      "\n",
      "All features:\n",
      " 1. score\n",
      " 2. opponent_score\n",
      " 3. opponent_rating\n",
      " 4. score_diff\n",
      " 5. score_ratio\n",
      " 6. won_game\n",
      " 7. is_bot\n",
      " 8. winner\n",
      " 9. initial_time_seconds\n",
      "10. increment_seconds\n",
      "11. max_overtime_minutes\n",
      "12. game_duration_seconds\n",
      "13. opponent_is_bot\n",
      "14. opponent_is_BetterBot\n",
      "15. opponent_is_STEEBot\n",
      "16. opponent_is_HastyBot\n",
      "17. opponent_is_Super\n",
      "18. opponent_bot_strength\n",
      "19. score_consistency_x\n",
      "20. performance_category\n",
      "21. is_dominant_win\n",
      "22. is_close_game\n",
      "23. year\n",
      "24. month\n",
      "25. day_of_week\n",
      "26. hour\n",
      "27. day_of_year\n",
      "28. time_of_day\n",
      "29. is_weekend\n",
      "30. season\n",
      "31. time_category\n",
      "32. lexicon_category\n",
      "33. is_rated\n",
      "34. has_overtime\n",
      "35. game_duration_minutes\n",
      "36. is_long_game\n",
      "37. is_short_game\n",
      "38. time_pressure\n",
      "39. high_time_pressure\n",
      "40. avg_points\n",
      "41. max_points\n",
      "42. min_points\n",
      "43. std_points\n",
      "44. total_points\n",
      "45. turn_count\n",
      "46. avg_score\n",
      "47. max_score\n",
      "48. std_score\n",
      "49. final_score\n",
      "50. max_turn\n",
      "51. avg_turn_number\n",
      "52. rack_count\n",
      "53. location_count\n",
      "54. points_efficiency\n",
      "55. score_consistency_y\n",
      "56. turn_efficiency\n",
      "57. score_winsorized\n",
      "58. game_duration_winsorized\n",
      "59. log_game_duration\n",
      "60. score_percentile\n",
      "61. score_zscore\n",
      "62. score_per_minute\n",
      "63. rated_opponent_rating\n",
      "64. bot_strength_score_diff\n"
     ]
    }
   ],
   "source": [
    "# Analyze the engineered features\n",
    "print(\"FEATURE ANALYSIS\")\n",
    "print(\"=\" * 60)\n",
    "print(f\"Total features created: {X_train.shape[1]}\")\n",
    "print(f\"Training samples: {X_train.shape[0]}\")\n",
    "print(f\"Test samples: {X_test.shape[0]}\")\n",
    "\n",
    "# Feature categories\n",
    "numeric_features = X_train.select_dtypes(include=[np.number]).columns.tolist()\n",
    "categorical_features = X_train.select_dtypes(include=['object', 'category']).columns.tolist()\n",
    "\n",
    "print(f\"\\nNumeric features: {len(numeric_features)}\")\n",
    "print(f\"Categorical features: {len(categorical_features)}\")\n",
    "\n",
    "# Show feature names\n",
    "print(\"\\nAll features:\")\n",
    "for i, col in enumerate(X_train.columns, 1):\n",
    "    print(f\"{i:2d}. {col}\")\n"
   ]
  },
  {
   "cell_type": "code",
   "execution_count": 51,
   "id": "4aa71278",
   "metadata": {
    "execution": {
     "iopub.execute_input": "2025-10-29T11:30:44.049713Z",
     "iopub.status.busy": "2025-10-29T11:30:44.049588Z",
     "iopub.status.idle": "2025-10-29T11:30:44.053480Z",
     "shell.execute_reply": "2025-10-29T11:30:44.053072Z"
    }
   },
   "outputs": [
    {
     "name": "stdout",
     "output_type": "stream",
     "text": [
      "Libraries imported successfully!\n",
      "Working directory: /home/ben/Desktop/Ben/Scrabble\n"
     ]
    }
   ],
   "source": [
    "# Import libraries\n",
    "import pandas as pd\n",
    "import numpy as np\n",
    "import matplotlib.pyplot as plt\n",
    "import seaborn as sns\n",
    "import sys\n",
    "from pathlib import Path\n",
    "from datetime import datetime\n",
    "import warnings\n",
    "warnings.filterwarnings('ignore')\n",
    "\n",
    "# Import custom modules\n",
    "from src.data_loader import DataLoader\n",
    "from src.feature_engineering import FeatureEngineer\n",
    "from src.config import *\n",
    "\n",
    "# Set style\n",
    "plt.style.use('seaborn-v0_8-darkgrid')\n",
    "sns.set_palette(\"husl\")\n",
    "%matplotlib inline\n",
    "\n",
    "print(\"Libraries imported successfully!\")\n",
    "print(f\"Working directory: {Path.cwd()}\")\n"
   ]
  },
  {
   "cell_type": "markdown",
   "id": "747487ed",
   "metadata": {},
   "source": [
    "## 1. Data Loading and Initial Setup\n"
   ]
  },
  {
   "cell_type": "code",
   "execution_count": 52,
   "id": "c594bbd1",
   "metadata": {
    "execution": {
     "iopub.execute_input": "2025-10-29T11:30:44.054992Z",
     "iopub.status.busy": "2025-10-29T11:30:44.054870Z",
     "iopub.status.idle": "2025-10-29T11:30:45.735989Z",
     "shell.execute_reply": "2025-10-29T11:30:45.735512Z"
    }
   },
   "outputs": [
    {
     "name": "stdout",
     "output_type": "stream",
     "text": [
      "Loading data files...\n",
      "Training data: 100820 rows\n",
      "Test data: 44726 rows\n",
      "Games data: 72773 rows\n",
      "Turns data: 2005498 rows\n",
      "Data loaded successfully!\n",
      "Training data: 100820 rows\n",
      "Test data: 44726 rows\n",
      "Games data: 72773 rows\n",
      "Turns data: 2005498 rows\n"
     ]
    }
   ],
   "source": [
    "# Load all data\n",
    "loader = DataLoader()\n",
    "loader.load_all_data()\n",
    "\n",
    "print(\"Data loaded successfully!\")\n",
    "print(f\"Training data: {len(loader.train_df)} rows\")\n",
    "print(f\"Test data: {len(loader.test_df)} rows\")\n",
    "print(f\"Games data: {len(loader.games_df)} rows\")\n",
    "print(f\"Turns data: {len(loader.turns_df)} rows\")\n"
   ]
  },
  {
   "cell_type": "markdown",
   "id": "544ac865",
   "metadata": {},
   "source": [
    "## 2. Initialize Enhanced Feature Engineer\n"
   ]
  },
  {
   "cell_type": "code",
   "execution_count": 53,
   "id": "1f8a5875",
   "metadata": {
    "execution": {
     "iopub.execute_input": "2025-10-29T11:30:45.737853Z",
     "iopub.status.busy": "2025-10-29T11:30:45.737687Z",
     "iopub.status.idle": "2025-10-29T11:30:45.739988Z",
     "shell.execute_reply": "2025-10-29T11:30:45.739541Z"
    }
   },
   "outputs": [],
   "source": [
    "# Initialize the enhanced feature engineer\n",
    "feature_engineer = FeatureEngineer()"
   ]
  },
  {
   "cell_type": "markdown",
   "id": "b80bfb3c",
   "metadata": {},
   "source": [
    "## 3. Apply Comprehensive Feature Engineering\n"
   ]
  },
  {
   "cell_type": "code",
   "execution_count": 54,
   "id": "26b24f81",
   "metadata": {
    "execution": {
     "iopub.execute_input": "2025-10-29T11:30:45.741616Z",
     "iopub.status.busy": "2025-10-29T11:30:45.741455Z",
     "iopub.status.idle": "2025-10-29T11:31:45.065883Z",
     "shell.execute_reply": "2025-10-29T11:31:45.065506Z"
    }
   },
   "outputs": [
    {
     "name": "stdout",
     "output_type": "stream",
     "text": [
      "Starting comprehensive feature engineering...\n",
      "============================================================\n",
      "\n",
      "Processing training data...\n"
     ]
    },
    {
     "name": "stdout",
     "output_type": "stream",
     "text": [
      "Creating bot interaction features...\n",
      "✓ Added bot interaction features\n",
      "Creating performance consistency features...\n",
      "✓ Added performance consistency features\n",
      "Creating advanced temporal features...\n",
      "✓ Added advanced temporal features\n",
      "Creating game context features...\n",
      "✓ Added game context features\n",
      "Creating turn aggregation features...\n",
      "✓ Added turn aggregation features for 100820 players\n",
      "Creating outlier-robust features...\n",
      "✓ Added outlier-robust features\n",
      "Creating interaction features...\n",
      "✓ Added interaction features\n",
      "\n",
      "Processing test data...\n",
      "Creating bot interaction features...\n",
      "✓ Added bot interaction features\n",
      "Creating performance consistency features...\n",
      "✓ Added performance consistency features\n",
      "Creating advanced temporal features...\n",
      "✓ Added advanced temporal features\n",
      "Creating game context features...\n",
      "✓ Added game context features\n",
      "Creating turn aggregation features...\n",
      "✓ Added turn aggregation features for 44726 players\n",
      "Creating outlier-robust features...\n",
      "✓ Added outlier-robust features\n",
      "Creating interaction features...\n",
      "✓ Added interaction features\n",
      "\n",
      "============================================================\n",
      "FEATURE ENGINEERING COMPLETE\n",
      "============================================================\n",
      "Training features: 74\n",
      "Test features: 74\n"
     ]
    }
   ],
   "source": [
    "# Apply comprehensive feature engineering using the enhanced module\n",
    "train_features, test_features = feature_engineer.engineer_all_features(\n",
    "    loader.train_df, \n",
    "    loader.test_df, \n",
    "    loader.games_df, \n",
    "    loader.turns_df\n",
    ")\n"
   ]
  },
  {
   "cell_type": "markdown",
   "id": "be2db410",
   "metadata": {},
   "source": [
    "## 4. Prepare Features for Modeling\n"
   ]
  },
  {
   "cell_type": "code",
   "execution_count": 55,
   "id": "b42a57f2",
   "metadata": {
    "execution": {
     "iopub.execute_input": "2025-10-29T11:31:45.067573Z",
     "iopub.status.busy": "2025-10-29T11:31:45.067346Z",
     "iopub.status.idle": "2025-10-29T11:31:45.169959Z",
     "shell.execute_reply": "2025-10-29T11:31:45.169532Z"
    }
   },
   "outputs": [
    {
     "name": "stdout",
     "output_type": "stream",
     "text": [
      "PREPARING FEATURES FOR MODELING\n",
      "==================================================\n",
      "Removing 9 problematic features:\n",
      "  - game_id\n",
      "  - nickname\n",
      "  - opponent_nickname\n",
      "  - created_at\n",
      "  - first\n",
      "  - time_control_name\n",
      "  - lexicon\n",
      "  - game_end_reason\n",
      "  - rating_mode\n",
      "\n",
      "Handling missing values...\n",
      "\n",
      "Final feature matrix shapes:\n",
      "  Training: (100820, 64)\n",
      "  Test: (44726, 65)\n",
      "  Target: (100820,)\n"
     ]
    }
   ],
   "source": [
    "# Prepare features for modeling using the enhanced module\n",
    "X_train, y_train, X_test = feature_engineer.prepare_features_for_modeling(\n",
    "    train_features, \n",
    "    test_features\n",
    ")\n"
   ]
  },
  {
   "cell_type": "markdown",
   "id": "f58607e7",
   "metadata": {},
   "source": [
    "## 5. Feature Analysis and Visualization\n"
   ]
  },
  {
   "cell_type": "code",
   "execution_count": 56,
   "id": "6324f632",
   "metadata": {
    "execution": {
     "iopub.execute_input": "2025-10-29T11:31:45.171646Z",
     "iopub.status.busy": "2025-10-29T11:31:45.171481Z",
     "iopub.status.idle": "2025-10-29T11:31:45.184983Z",
     "shell.execute_reply": "2025-10-29T11:31:45.184571Z"
    }
   },
   "outputs": [
    {
     "name": "stdout",
     "output_type": "stream",
     "text": [
      "FEATURE ANALYSIS\n",
      "============================================================\n",
      "Total features created: 64\n",
      "Training samples: 100820\n",
      "Test samples: 44726\n",
      "\n",
      "Numeric features: 58\n",
      "Categorical features: 5\n",
      "\n",
      "All features:\n",
      " 1. score\n",
      " 2. opponent_score\n",
      " 3. opponent_rating\n",
      " 4. score_diff\n",
      " 5. score_ratio\n",
      " 6. won_game\n",
      " 7. is_bot\n",
      " 8. winner\n",
      " 9. initial_time_seconds\n",
      "10. increment_seconds\n",
      "11. max_overtime_minutes\n",
      "12. game_duration_seconds\n",
      "13. opponent_is_bot\n",
      "14. opponent_is_BetterBot\n",
      "15. opponent_is_STEEBot\n",
      "16. opponent_is_HastyBot\n",
      "17. opponent_is_Super\n",
      "18. opponent_bot_strength\n",
      "19. score_consistency_x\n",
      "20. performance_category\n",
      "21. is_dominant_win\n",
      "22. is_close_game\n",
      "23. year\n",
      "24. month\n",
      "25. day_of_week\n",
      "26. hour\n",
      "27. day_of_year\n",
      "28. time_of_day\n",
      "29. is_weekend\n",
      "30. season\n",
      "31. time_category\n",
      "32. lexicon_category\n",
      "33. is_rated\n",
      "34. has_overtime\n",
      "35. game_duration_minutes\n",
      "36. is_long_game\n",
      "37. is_short_game\n",
      "38. time_pressure\n",
      "39. high_time_pressure\n",
      "40. avg_points\n",
      "41. max_points\n",
      "42. min_points\n",
      "43. std_points\n",
      "44. total_points\n",
      "45. turn_count\n",
      "46. avg_score\n",
      "47. max_score\n",
      "48. std_score\n",
      "49. final_score\n",
      "50. max_turn\n",
      "51. avg_turn_number\n",
      "52. rack_count\n",
      "53. location_count\n",
      "54. points_efficiency\n",
      "55. score_consistency_y\n",
      "56. turn_efficiency\n",
      "57. score_winsorized\n",
      "58. game_duration_winsorized\n",
      "59. log_game_duration\n",
      "60. score_percentile\n",
      "61. score_zscore\n",
      "62. score_per_minute\n",
      "63. rated_opponent_rating\n",
      "64. bot_strength_score_diff\n"
     ]
    }
   ],
   "source": [
    "# Analyze the engineered features\n",
    "print(\"FEATURE ANALYSIS\")\n",
    "print(\"=\" * 60)\n",
    "print(f\"Total features created: {X_train.shape[1]}\")\n",
    "print(f\"Training samples: {X_train.shape[0]}\")\n",
    "print(f\"Test samples: {X_test.shape[0]}\")\n",
    "\n",
    "# Feature categories\n",
    "numeric_features = X_train.select_dtypes(include=[np.number]).columns.tolist()\n",
    "categorical_features = X_train.select_dtypes(include=['object', 'category']).columns.tolist()\n",
    "\n",
    "print(f\"\\nNumeric features: {len(numeric_features)}\")\n",
    "print(f\"Categorical features: {len(categorical_features)}\")\n",
    "\n",
    "# Show feature names\n",
    "print(\"\\nAll features:\")\n",
    "for i, col in enumerate(X_train.columns, 1):\n",
    "    print(f\"{i:2d}. {col}\")\n"
   ]
  },
  {
   "cell_type": "code",
   "execution_count": 57,
   "id": "5f21ecd0",
   "metadata": {
    "execution": {
     "iopub.execute_input": "2025-10-29T11:31:45.186580Z",
     "iopub.status.busy": "2025-10-29T11:31:45.186401Z",
     "iopub.status.idle": "2025-10-29T11:31:45.365849Z",
     "shell.execute_reply": "2025-10-29T11:31:45.365397Z"
    }
   },
   "outputs": [
    {
     "name": "stdout",
     "output_type": "stream",
     "text": [
      "TOP FEATURE CORRELATIONS WITH RATING:\n",
      "==================================================\n",
      " 1. turn_efficiency           0.4666\n",
      " 2. points_efficiency         0.4666\n",
      " 3. avg_points                0.4650\n",
      " 4. rated_opponent_rating     0.4426\n",
      " 5. opponent_rating           0.4418\n",
      " 6. max_overtime_minutes      0.4343\n",
      " 7. score_winsorized          0.4262\n",
      " 8. final_score               0.4251\n",
      " 9. total_points              0.4251\n",
      "10. score                     0.4251\n",
      "11. score_zscore              0.4251\n",
      "12. max_score                 0.4247\n",
      "13. score_percentile          0.4174\n",
      "14. is_rated                  0.4053\n",
      "15. has_overtime              0.3935\n"
     ]
    },
    {
     "data": {
      "image/png": "[encoded data removed]",
      "text/plain": [
       "<Figure size 1200x800 with 1 Axes>"
      ]
     },
     "metadata": {},
     "output_type": "display_data"
    }
   ],
   "source": [
    "# Correlation analysis with target variable\n",
    "if y_train is not None:\n",
    "    numeric_cols = X_train.select_dtypes(include=[np.number]).columns.tolist()\n",
    "    correlations = X_train[numeric_cols].corrwith(y_train).abs().sort_values(ascending=False)\n",
    "    \n",
    "    print(\"TOP FEATURE CORRELATIONS WITH RATING:\")\n",
    "    print(\"=\" * 50)\n",
    "    for i, (feature, corr) in enumerate(correlations.head(15).items(), 1):\n",
    "        print(f\"{i:2d}. {feature:<25} {corr:.4f}\")\n",
    "    \n",
    "    # Visualize top correlations\n",
    "    top_features = correlations.head(10).index.tolist()\n",
    "    plt.figure(figsize=(12, 8))\n",
    "    correlations[top_features].plot(kind='bar', color='skyblue', alpha=0.7)\n",
    "    plt.title('Top Feature Correlations with Rating', fontsize=14, fontweight='bold')\n",
    "    plt.xlabel('Features')\n",
    "    plt.ylabel('Absolute Correlation')\n",
    "    plt.xticks(rotation=45, ha='right')\n",
    "    plt.grid(True, alpha=0.3, axis='y')\n",
    "    plt.tight_layout()\n",
    "    plt.show()\n"
   ]
  },
  {
   "cell_type": "markdown",
   "id": "a73b24a6",
   "metadata": {},
   "source": [
    "## 6. Save Engineered Features\n"
   ]
  },
  {
   "cell_type": "code",
   "execution_count": 58,
   "id": "ec0dc9b8",
   "metadata": {
    "execution": {
     "iopub.execute_input": "2025-10-29T11:31:45.367544Z",
     "iopub.status.busy": "2025-10-29T11:31:45.367412Z",
     "iopub.status.idle": "2025-10-29T11:31:47.868817Z",
     "shell.execute_reply": "2025-10-29T11:31:47.868451Z"
    }
   },
   "outputs": [
    {
     "name": "stdout",
     "output_type": "stream",
     "text": [
      "SAVING ENGINEERED FEATURES\n",
      "==================================================\n",
      "✓ Training features saved to: output/train_features_engineered.csv\n"
     ]
    },
    {
     "name": "stdout",
     "output_type": "stream",
     "text": [
      "✓ Test features saved to: output/test_features_engineered.csv\n",
      "✓ Training target saved to: output/train_target.csv\n",
      "✓ Feature names saved to: output/feature_names.txt\n",
      "\n",
      "All engineered features saved successfully!\n",
      "Total features: 64\n",
      "Training samples: 100820\n",
      "Test samples: 44726\n"
     ]
    }
   ],
   "source": [
    "# Save engineered features\n",
    "print(\"SAVING ENGINEERED FEATURES\")\n",
    "print(\"=\" * 50)\n",
    "\n",
    "# Create output directory if it doesn't exist\n",
    "output_dir = Path(\"output\")\n",
    "output_dir.mkdir(exist_ok=True)\n",
    "\n",
    "# Save training features\n",
    "train_output_path = output_dir / \"train_features_engineered.csv\"\n",
    "X_train.to_csv(train_output_path, index=False)\n",
    "print(f\"✓ Training features saved to: {train_output_path}\")\n",
    "\n",
    "# Save test features\n",
    "test_output_path = output_dir / \"test_features_engineered.csv\"\n",
    "X_test.to_csv(test_output_path, index=False)\n",
    "print(f\"✓ Test features saved to: {test_output_path}\")\n",
    "\n",
    "# Save target if available\n",
    "if y_train is not None:\n",
    "    target_output_path = output_dir / \"train_target.csv\"\n",
    "    y_train.to_csv(target_output_path, index=False)\n",
    "    print(f\"✓ Training target saved to: {target_output_path}\")\n",
    "\n",
    "# Save feature names for reference\n",
    "feature_names_path = output_dir / \"feature_names.txt\"\n",
    "with open(feature_names_path, 'w') as f:\n",
    "    for i, feature in enumerate(X_train.columns, 1):\n",
    "        f.write(f\"{i:2d}. {feature}\\n\")\n",
    "print(f\"✓ Feature names saved to: {feature_names_path}\")\n",
    "\n",
    "print(f\"\\nAll engineered features saved successfully!\")\n",
    "print(f\"Total features: {X_train.shape[1]}\")\n",
    "print(f\"Training samples: {X_train.shape[0]}\")\n",
    "print(f\"Test samples: {X_test.shape[0]}\")\n"
   ]
  },
  {
   "cell_type": "markdown",
   "id": "eb206330",
   "metadata": {},
   "source": [
    "## 7. Summary and Next Steps\n"
   ]
  },
  {
   "cell_type": "code",
   "execution_count": 59,
   "id": "c8d80cb1",
   "metadata": {
    "execution": {
     "iopub.execute_input": "2025-10-29T11:31:47.870646Z",
     "iopub.status.busy": "2025-10-29T11:31:47.870494Z",
     "iopub.status.idle": "2025-10-29T11:31:47.938021Z",
     "shell.execute_reply": "2025-10-29T11:31:47.937548Z"
    }
   },
   "outputs": [
    {
     "name": "stdout",
     "output_type": "stream",
     "text": [
      "FEATURE ENGINEERING SUMMARY\n",
      "============================================================\n",
      "\n",
      "📊 Dataset Overview:\n",
      "  • Training samples: 100,820\n",
      "  • Test samples: 44,726\n",
      "  • Total features: 64\n",
      "\n",
      "🔧 Feature Categories Created:\n",
      "  • Bot Interaction     :  7 features\n",
      "  • Performance Metrics : 16 features\n",
      "  • Temporal Features   : 13 features\n",
      "  • Game Context        : 12 features\n",
      "  • Turn Aggregations   : 10 features\n",
      "  • Outlier Robust      :  5 features\n",
      "  • Interaction Features:  3 features\n",
      "\n",
      "📈 Data Quality:\n",
      "  • Missing values: 0 total\n",
      "  • Constant features: 2\n",
      "  • High cardinality: 0\n",
      "\n",
      "🎯 Target Analysis:\n",
      "  • Rating range: 1033 - 2510\n",
      "  • Rating mean: 1875.6\n",
      "  • Rating std: 231.8\n",
      "\n",
      "✅ Next Steps:\n",
      "  1. Train machine learning models using these features\n",
      "  2. Perform feature selection to identify most important features\n",
      "  3. Tune hyperparameters for optimal performance\n",
      "  4. Generate predictions for test set\n",
      "  5. Evaluate model performance and iterate\n",
      "\n",
      "📁 Files Created:\n",
      "  • output/train_features_engineered.csv\n",
      "  • output/test_features_engineered.csv\n",
      "  • output/train_target.csv\n",
      "  • output/feature_names.txt\n",
      "\n",
      "🎉 Feature Engineering Complete!\n",
      "============================================================\n"
     ]
    }
   ],
   "source": [
    "# Summary of feature engineering\n",
    "print(\"FEATURE ENGINEERING SUMMARY\")\n",
    "print(\"=\" * 60)\n",
    "\n",
    "print(f\"\\n📊 Dataset Overview:\")\n",
    "print(f\"  • Training samples: {X_train.shape[0]:,}\")\n",
    "print(f\"  • Test samples: {X_test.shape[0]:,}\")\n",
    "print(f\"  • Total features: {X_train.shape[1]}\")\n",
    "\n",
    "print(f\"\\n🔧 Feature Categories Created:\")\n",
    "feature_categories = {\n",
    "    'Bot Interaction': len([f for f in X_train.columns if 'bot' in f.lower()]),\n",
    "    'Performance Metrics': len([f for f in X_train.columns if any(x in f.lower() for x in ['score', 'performance', 'consistency'])]),\n",
    "    'Temporal Features': len([f for f in X_train.columns if any(x in f.lower() for x in ['year', 'month', 'day', 'hour', 'season', 'time'])]),\n",
    "    'Game Context': len([f for f in X_train.columns if any(x in f.lower() for x in ['game', 'duration', 'rated', 'overtime'])]),\n",
    "    'Turn Aggregations': len([f for f in X_train.columns if any(x in f.lower() for x in ['turn', 'points', 'efficiency'])]),\n",
    "    'Outlier Robust': len([f for f in X_train.columns if any(x in f.lower() for x in ['winsorized', 'log_', 'percentile', 'zscore'])]),\n",
    "    'Interaction Features': len([f for f in X_train.columns if '_' in f and any(x in f.lower() for x in ['per_', 'interaction', 'strength'])])\n",
    "}\n",
    "\n",
    "for category, count in feature_categories.items():\n",
    "    print(f\"  • {category:<20}: {count:2d} features\")\n",
    "\n",
    "print(f\"\\n📈 Data Quality:\")\n",
    "print(f\"  • Missing values: {X_train.isnull().sum().sum()} total\")\n",
    "print(f\"  • Constant features: {len([f for f in X_train.columns if X_train[f].nunique() <= 1])}\")\n",
    "print(f\"  • High cardinality: {len([f for f in X_train.select_dtypes(include=['object']).columns if X_train[f].nunique() > 50])}\")\n",
    "\n",
    "if y_train is not None:\n",
    "    print(f\"\\n🎯 Target Analysis:\")\n",
    "    print(f\"  • Rating range: {y_train.min():.0f} - {y_train.max():.0f}\")\n",
    "    print(f\"  • Rating mean: {y_train.mean():.1f}\")\n",
    "    print(f\"  • Rating std: {y_train.std():.1f}\")\n",
    "\n",
    "print(f\"\\n✅ Next Steps:\")\n",
    "print(f\"  1. Train machine learning models using these features\")\n",
    "print(f\"  2. Perform feature selection to identify most important features\")\n",
    "print(f\"  3. Tune hyperparameters for optimal performance\")\n",
    "print(f\"  4. Generate predictions for test set\")\n",
    "print(f\"  5. Evaluate model performance and iterate\")\n",
    "\n",
    "print(f\"\\n📁 Files Created:\")\n",
    "print(f\"  • output/train_features_engineered.csv\")\n",
    "print(f\"  • output/test_features_engineered.csv\")\n",
    "print(f\"  • output/train_target.csv\")\n",
    "print(f\"  • output/feature_names.txt\")\n",
    "\n",
    "print(f\"\\n🎉 Feature Engineering Complete!\")\n",
    "print(\"=\" * 60)\n"
   ]
  },
  {
   "cell_type": "code",
   "execution_count": 60,
   "id": "3f4a1b44",
   "metadata": {
    "execution": {
     "iopub.execute_input": "2025-10-29T11:31:47.939770Z",
     "iopub.status.busy": "2025-10-29T11:31:47.939617Z",
     "iopub.status.idle": "2025-10-29T11:31:48.117517Z",
     "shell.execute_reply": "2025-10-29T11:31:48.117010Z"
    }
   },
   "outputs": [
    {
     "name": "stdout",
     "output_type": "stream",
     "text": [
      "TOP FEATURE CORRELATIONS WITH RATING:\n",
      "==================================================\n",
      " 1. turn_efficiency           0.4666\n",
      " 2. points_efficiency         0.4666\n",
      " 3. avg_points                0.4650\n",
      " 4. rated_opponent_rating     0.4426\n",
      " 5. opponent_rating           0.4418\n",
      " 6. max_overtime_minutes      0.4343\n",
      " 7. score_winsorized          0.4262\n",
      " 8. final_score               0.4251\n",
      " 9. total_points              0.4251\n",
      "10. score                     0.4251\n",
      "11. score_zscore              0.4251\n",
      "12. max_score                 0.4247\n",
      "13. score_percentile          0.4174\n",
      "14. is_rated                  0.4053\n",
      "15. has_overtime              0.3935\n"
     ]
    },
    {
     "data": {
      "image/png": "[encoded data removed]",
      "text/plain": [
       "<Figure size 1200x800 with 1 Axes>"
      ]
     },
     "metadata": {},
     "output_type": "display_data"
    }
   ],
   "source": [
    "# Correlation analysis with target variable\n",
    "if y_train is not None:\n",
    "    # Select numeric features for correlation\n",
    "    numeric_cols = X_train.select_dtypes(include=[np.number]).columns.tolist()\n",
    "    \n",
    "    # Calculate correlations with rating\n",
    "    correlations = X_train[numeric_cols].corrwith(y_train).abs().sort_values(ascending=False)\n",
    "    \n",
    "    # Show top correlations\n",
    "    print(\"TOP FEATURE CORRELATIONS WITH RATING:\")\n",
    "    print(\"=\" * 50)\n",
    "    for i, (feature, corr) in enumerate(correlations.head(15).items(), 1):\n",
    "        print(f\"{i:2d}. {feature:<25} {corr:.4f}\")\n",
    "    \n",
    "    # Visualize top correlations\n",
    "    top_features = correlations.head(10).index.tolist()\n",
    "    \n",
    "    plt.figure(figsize=(12, 8))\n",
    "    correlations[top_features].plot(kind='bar', color='skyblue', alpha=0.7)\n",
    "    plt.title('Top Feature Correlations with Rating', fontsize=14, fontweight='bold')\n",
    "    plt.xlabel('Features')\n",
    "    plt.ylabel('Absolute Correlation')\n",
    "    plt.xticks(rotation=45, ha='right')\n",
    "    plt.grid(True, alpha=0.3, axis='y')\n",
    "    plt.tight_layout()\n",
    "    plt.show()\n"
   ]
  }
 ],
 "metadata": {
  "kernelspec": {
   "display_name": "dev_env",
   "language": "python",
   "name": "python3"
  },
  "language_info": {
   "codemirror_mode": {
    "name": "ipython",
    "version": 3
   },
   "file_extension": ".py",
   "mimetype": "text/x-python",
   "name": "python",
   "nbconvert_exporter": "python",
   "pygments_lexer": "ipython3",
   "version": "3.12.7"
  }
 },
 "nbformat": 4,
 "nbformat_minor": 5
}
